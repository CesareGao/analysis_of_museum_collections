{
 "cells": [
  {
   "cell_type": "markdown",
   "metadata": {
    "slideshow": {
     "slide_type": "slide"
    }
   },
   "source": [
    "# Anlysis of museum collection"
   ]
  },
  {
   "cell_type": "markdown",
   "metadata": {
    "slideshow": {
     "slide_type": "subslide"
    }
   },
   "source": [
    "### Import all the module required"
   ]
  },
  {
   "cell_type": "code",
   "execution_count": null,
   "metadata": {
    "slideshow": {
     "slide_type": "fragment"
    }
   },
   "outputs": [],
   "source": [
    "import pandas as pd\n",
    "import numpy as np\n",
    "import re\n",
    "import seaborn as sns\n",
    "import matplotlib.pyplot as plt\n",
    "%matplotlib inline\n",
    "import nltk\n",
    "from collections import Counter"
   ]
  },
  {
   "cell_type": "markdown",
   "metadata": {
    "slideshow": {
     "slide_type": "subslide"
    }
   },
   "source": [
    "### Import the data from the website"
   ]
  },
  {
   "cell_type": "code",
   "execution_count": null,
   "metadata": {
    "slideshow": {
     "slide_type": "fragment"
    }
   },
   "outputs": [],
   "source": [
    "collection_df = pd.read_csv(\"https://media.githubusercontent.com/media/metmuseum/openaccess/master/MetObjects.csv\")"
   ]
  },
  {
   "cell_type": "markdown",
   "metadata": {
    "slideshow": {
     "slide_type": "slide"
    }
   },
   "source": [
    "## Data clean\n",
    "\n",
    "The data now looks fine. We intend to do some data clean work as follows:\n",
    "+ Check \"Object Begin Date\" and \"Object End Date\" with \"Object Date\"\n",
    "+ Check \"Artist Begin Date\" and \"Artist End Date\" with \"Artist Display Bio\"\n",
    "+ Check \"Artist Display Name\" with \"Artist Alpha Sort\", then delete the later one.\n",
    "+ Merge \"Artist Role\" with \"Artist Prefix\"\n"
   ]
  },
  {
   "cell_type": "code",
   "execution_count": null,
   "metadata": {
    "slideshow": {
     "slide_type": "subslide"
    }
   },
   "outputs": [],
   "source": [
    "## Import all the help function we need to use.\n",
    "import data_clean_functions as dcf"
   ]
  },
  {
   "cell_type": "markdown",
   "metadata": {
    "slideshow": {
     "slide_type": "fragment"
    }
   },
   "source": [
    "In original columns, some column names have space in it, which could be difficult to call. So we modify the names of columns for indexing convenience."
   ]
  },
  {
   "cell_type": "code",
   "execution_count": null,
   "metadata": {
    "slideshow": {
     "slide_type": "fragment"
    }
   },
   "outputs": [],
   "source": [
    "collection_df.columns = ['_'.join(col_name.split()) for col_name in collection_df]"
   ]
  },
  {
   "cell_type": "markdown",
   "metadata": {
    "slideshow": {
     "slide_type": "subslide"
    }
   },
   "source": [
    "### First look of the data"
   ]
  },
  {
   "cell_type": "code",
   "execution_count": null,
   "metadata": {
    "slideshow": {
     "slide_type": "fragment"
    }
   },
   "outputs": [],
   "source": [
    "collection_df.dtypes"
   ]
  },
  {
   "cell_type": "markdown",
   "metadata": {
    "slideshow": {
     "slide_type": "fragment"
    }
   },
   "source": [
    "We could check number of NaNs in all the columns first and try to ingnore those columns which the number of NaNs is no more than 10%."
   ]
  },
  {
   "cell_type": "code",
   "execution_count": null,
   "metadata": {
    "slideshow": {
     "slide_type": "fragment"
    }
   },
   "outputs": [],
   "source": [
    "collection_df.isna().sum()"
   ]
  },
  {
   "cell_type": "code",
   "execution_count": null,
   "metadata": {
    "slideshow": {
     "slide_type": "fragment"
    }
   },
   "outputs": [],
   "source": [
    "filtered_df =  collection_df.loc[:, collection_df.isna().sum(axis = 0) < len(collection_df.index)*0.1 ]\n",
    "filtered_df"
   ]
  },
  {
   "cell_type": "markdown",
   "metadata": {
    "slideshow": {
     "slide_type": "subslide"
    }
   },
   "source": [
    "### Check the amount of repository\n",
    "We already know the Metropolitan Museum of Art in New York has only one repository. So we check this in case of spelling mistakes."
   ]
  },
  {
   "cell_type": "code",
   "execution_count": null,
   "metadata": {
    "slideshow": {
     "slide_type": "fragment"
    }
   },
   "outputs": [],
   "source": [
    "collection_df.Repository.value_counts()"
   ]
  },
  {
   "cell_type": "markdown",
   "metadata": {
    "slideshow": {
     "slide_type": "fragment"
    }
   },
   "source": [
    "Just one row index name. This meets our expectation."
   ]
  },
  {
   "cell_type": "markdown",
   "metadata": {
    "slideshow": {
     "slide_type": "subslide"
    }
   },
   "source": [
    "### Extract the year information in Credit_Line column\n",
    "Extract the credit year from Credit_Line columns and use the year to add an new column called 'Credit_Year' with timeline data type."
   ]
  },
  {
   "cell_type": "code",
   "execution_count": null,
   "metadata": {
    "slideshow": {
     "slide_type": "fragment"
    }
   },
   "outputs": [],
   "source": [
    "def credit_year(row):\n",
    "    if pd.notna(row):\n",
    "        ## find the year in string type document\n",
    "        year_str = re.compile('\\d{4}').findall(row.split(',')[-1])\n",
    "        if year_str:\n",
    "            year_int = int(year_str[0])\n",
    "            ## filter years according to the found year of the museum\n",
    "            if 1870 <= year_int <= 2019:\n",
    "                return pd.Timestamp(str(year_int))\n",
    "    return np.nan\n",
    "collection_df['Credit_Year'] = collection_df.Credit_Line.apply(credit_year)"
   ]
  },
  {
   "cell_type": "markdown",
   "metadata": {
    "slideshow": {
     "slide_type": "subslide"
    }
   },
   "source": [
    "### A light check of Artist Display Name\n",
    "The Artist_Display_Name column shoud correspond to the Artist_Alpha_Sort column. These two columns should keep the same content, excepting from abbreviation, alpha sorting, title ignorance.\n",
    "\n",
    "I try to compare the tokenized Artist_Display_Name and Artist_Alpha_Sort column. Compare the percentage of similarity and set the roughly convincing rate to 60% due to abbreviation and title existence. The actually spelling mistake should get more than that."
   ]
  },
  {
   "cell_type": "code",
   "execution_count": null,
   "metadata": {
    "slideshow": {
     "slide_type": "fragment"
    }
   },
   "outputs": [],
   "source": [
    "def check_name(row):\n",
    "    if pd.isna(row.Artist_Alpha_Sort):\n",
    "        return True\n",
    "    else:\n",
    "        r1 = re.findall(r'\\w+',row.Artist_Display_Name.lower())\n",
    "        r2 = re.findall(r'\\w+',row.Artist_Alpha_Sort.lower())\n",
    "        count = 0\n",
    "        for word in r1:\n",
    "            if word in r2:\n",
    "                count += 1\n",
    "        if count/len(r1) > 0.6:\n",
    "            return True\n",
    "        count = 0\n",
    "        for word in r2:\n",
    "            if word in r1:\n",
    "                count += 1\n",
    "        if count/len(r2) > 0.6:\n",
    "            return True\n",
    "        else:\n",
    "            return False\n",
    "collection_df['Artist_Name_Check'] = collection_df[collection_df.Artist_Display_Name.notna()].apply(check_name,1)"
   ]
  },
  {
   "cell_type": "markdown",
   "metadata": {
    "slideshow": {
     "slide_type": "slide"
    }
   },
   "source": [
    "## Data analysis & Data Visualization"
   ]
  },
  {
   "cell_type": "markdown",
   "metadata": {
    "slideshow": {
     "slide_type": "subslide"
    }
   },
   "source": [
    "### Explore the possible spelling mistake in Artist_Display_Name\n",
    "This is a really rought check of the possible spelling mistake in Artist_Display_Name columns. Under the pre-condition in data cleaning process, only a few spelling mistake exits, which require human check."
   ]
  },
  {
   "cell_type": "code",
   "execution_count": null,
   "metadata": {
    "slideshow": {
     "slide_type": "fragment"
    }
   },
   "outputs": [],
   "source": [
    "print(collection_df.Artist_Name_Check.value_counts(dropna=False))\n",
    "collection_df[['Artist_Name_Check','Artist_Display_Name','Artist_Alpha_Sort']].sample(10)"
   ]
  },
  {
   "cell_type": "markdown",
   "metadata": {
    "slideshow": {
     "slide_type": "subslide"
    }
   },
   "source": [
    "### Explore the types of collections\n",
    "The Object_Name column shows the type of each object. We are interest to find the larggest amount of object types in the museum collection."
   ]
  },
  {
   "cell_type": "code",
   "execution_count": null,
   "metadata": {
    "slideshow": {
     "slide_type": "fragment"
    }
   },
   "outputs": [],
   "source": [
    "top_ten_collections = collection_df.Object_Name.value_counts(dropna=False).head(10)\n",
    "top_ten_collections"
   ]
  },
  {
   "cell_type": "code",
   "execution_count": null,
   "metadata": {
    "scrolled": true,
    "slideshow": {
     "slide_type": "fragment"
    }
   },
   "outputs": [],
   "source": [
    "plt.figure(figsize=(15,5))\n",
    "sns.barplot(x = top_ten_collections.values, y = top_ten_collections.index, alpha=0.8, orient='h')\n",
    "plt.title('Top Ten Collection Types in The Museum')\n",
    "plt.xlabel('Number of Occurrences', fontsize=12)\n",
    "plt.ylabel('Collection Types', fontsize=12)\n",
    "plt.show()"
   ]
  },
  {
   "cell_type": "markdown",
   "metadata": {
    "slideshow": {
     "slide_type": "subslide"
    }
   },
   "source": [
    "### Explore the department\n",
    "The Department column shows the department where each object belongs to. We are interest to take a loot at the collections of each department."
   ]
  },
  {
   "cell_type": "code",
   "execution_count": null,
   "metadata": {
    "slideshow": {
     "slide_type": "fragment"
    }
   },
   "outputs": [],
   "source": [
    "## explore the departement\n",
    "departments = collection_df.Department.value_counts()\n",
    "departments"
   ]
  },
  {
   "cell_type": "code",
   "execution_count": null,
   "metadata": {
    "scrolled": true,
    "slideshow": {
     "slide_type": "fragment"
    }
   },
   "outputs": [],
   "source": [
    "plt.figure(figsize=(15,5))\n",
    "sns.barplot(x = departments.values, y = departments.index, alpha=0.8, orient='h')\n",
    "plt.title('Quantiles of Collections in Different Departments')\n",
    "plt.xlabel('Number of Occurrences', fontsize=12)\n",
    "plt.ylabel('Names of Departments', fontsize=12)\n",
    "plt.show()"
   ]
  },
  {
   "cell_type": "markdown",
   "metadata": {
    "slideshow": {
     "slide_type": "subslide"
    }
   },
   "source": [
    "### Explore the frequency of credit line\n",
    "The Credit_Year column we build in data cleaning section shows the the year of the collection been collected. We want to look at the frequency of the credit to check if the frequency increases or decreases with time flows."
   ]
  },
  {
   "cell_type": "code",
   "execution_count": null,
   "metadata": {
    "slideshow": {
     "slide_type": "fragment"
    }
   },
   "outputs": [],
   "source": [
    "freq_df = collection_df.Credit_Year.value_counts()\n",
    "ax = freq_df.plot(figsize = (12,10))\n",
    "freq_df.rolling(window = 30).mean().plot(ax= ax, color='green', label = 'frequnecy')"
   ]
  },
  {
   "cell_type": "markdown",
   "metadata": {
    "slideshow": {
     "slide_type": "slide"
    }
   },
   "source": [
    "# Analysis conclusion\n",
    "\n",
    "\n",
    "## Top Ten Collection Types in The Museum\n",
    "    - From the plot we can clrearly see that the top ten colection types are print, photograph, drawing, book, fragment, Kylix fragment, piece, painting, negative, Baseball card/paint.\n",
    "    - We use the value and index of the Series to be the x-axis and y-axis number.\n",
    "\n",
    "## Quantiles of Collections in Different Departments\n",
    "    - From the plot we can easily analysis each department's the amount of collection, and we can see the top collection department is Drawings and Paints.\n",
    "    - We also use the value and index of the Series to be the x-axis and y-axis number.\n",
    "\n",
    "## Frequency of Contribution Depend on Years\n",
    "    - From the plot we can state that as year goes, the museum starts to decrease their collection activies, or fewer people contribute or sell their collctions to the museum.\n",
    "    - We first turn the Series into list, then get the year numbers, count the frequency of years appear on the lists, finally plot the year and the frequency value."
   ]
  }
 ],
 "metadata": {
  "celltoolbar": "Slideshow",
  "kernelspec": {
   "display_name": "Python 3",
   "language": "python",
   "name": "python3"
  },
  "language_info": {
   "codemirror_mode": {
    "name": "ipython",
    "version": 3
   },
   "file_extension": ".py",
   "mimetype": "text/x-python",
   "name": "python",
   "nbconvert_exporter": "python",
   "pygments_lexer": "ipython3",
   "version": "3.6.7"
  }
 },
 "nbformat": 4,
 "nbformat_minor": 2
}
