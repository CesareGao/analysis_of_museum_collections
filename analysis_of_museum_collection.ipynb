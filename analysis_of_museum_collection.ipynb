{
 "cells": [
  {
   "cell_type": "markdown",
   "metadata": {
    "slideshow": {
     "slide_type": "slide"
    }
   },
   "source": [
    "# Anlysis of museum collection"
   ]
  },
  {
   "cell_type": "markdown",
   "metadata": {
    "slideshow": {
     "slide_type": "subslide"
    }
   },
   "source": [
    "### Import all the module required"
   ]
  },
  {
   "cell_type": "code",
   "execution_count": null,
   "metadata": {
    "slideshow": {
     "slide_type": "fragment"
    }
   },
   "outputs": [],
   "source": [
    "import pandas as pd\n",
    "import numpy as np\n",
    "import re\n",
    "import seaborn as sns\n",
    "import matplotlib.pyplot as plt\n",
    "%matplotlib inline\n",
    "import nltk\n",
    "from collections import Counter"
   ]
  },
  {
   "cell_type": "markdown",
   "metadata": {
    "slideshow": {
     "slide_type": "subslide"
    }
   },
   "source": [
    "### Import the data from the website"
   ]
  },
  {
   "cell_type": "code",
   "execution_count": null,
   "metadata": {
    "slideshow": {
     "slide_type": "fragment"
    }
   },
   "outputs": [],
   "source": [
    "collection_df = pd.read_csv(\"https://media.githubusercontent.com/media/metmuseum/openaccess/master/MetObjects.csv\")"
   ]
  },
  {
   "cell_type": "markdown",
   "metadata": {
    "slideshow": {
     "slide_type": "slide"
    }
   },
   "source": [
    "## Data clean\n",
    "\n",
    "The data now looks fine. We intend to do some data clean work as follows:\n",
    "+ Check \"Object Begin Date\" and \"Object End Date\" with \"Object Date\"\n",
    "+ Check \"Artist Begin Date\" and \"Artist End Date\" with \"Artist Display Bio\"\n",
    "+ Check \"Artist Display Name\" with \"Artist Alpha Sort\", then delete the later one.\n",
    "+ Merge \"Artist Role\" with \"Artist Prefix\"\n"
   ]
  },
  {
   "cell_type": "code",
   "execution_count": null,
   "metadata": {
    "slideshow": {
     "slide_type": "subslide"
    }
   },
   "outputs": [],
   "source": [
    "import data_clean_functions as dcf"
   ]
  },
  {
   "cell_type": "code",
   "execution_count": null,
   "metadata": {
    "slideshow": {
     "slide_type": "fragment"
    }
   },
   "outputs": [],
   "source": [
    "## modify the names of columns for indexing convenience\n",
    "collection_df.columns = ['_'.join(col_name.split()) for col_name in collection_df]"
   ]
  },
  {
   "cell_type": "code",
   "execution_count": null,
   "metadata": {
    "slideshow": {
     "slide_type": "subslide"
    }
   },
   "outputs": [],
   "source": [
    "## Check the number of repositories \n",
    "collection_df.Repository.value_counts()"
   ]
  },
  {
   "cell_type": "code",
   "execution_count": null,
   "metadata": {
    "slideshow": {
     "slide_type": "subslide"
    }
   },
   "outputs": [],
   "source": [
    "## Extract the credit year from Credit_Line columns and use the year to build an new dataframe with credit line's frequency\n",
    "## and datatime index\n",
    "\n",
    "def credit_year(row):\n",
    "    if pd.notna(row):\n",
    "        ## find the year in string type document\n",
    "        year_str = re.compile('\\d{4}').findall(row.split(',')[-1])\n",
    "        if year_str:\n",
    "            year_int = int(year_str[0])\n",
    "            ## filter wrong years according to the found year of the museum\n",
    "            if 1870 <= year_int <= 2019:\n",
    "                return pd.Timestamp(str(year_int))\n",
    "    return np.nan\n",
    "collection_df['Credit_Year'] = collection_df.Credit_Line.apply(credit_year)"
   ]
  },
  {
   "cell_type": "code",
   "execution_count": null,
   "metadata": {},
   "outputs": [],
   "source": [
    "## Check \"Object Begin Date\" and \"Object End Date\" with \"Object Date\"\n",
    "def check_Object_Date(row):\n",
    "    return row.Object_End_Date >= row.Object_Begin_Date\n",
    "\n",
    "def modify_Object_Date(df):\n",
    "    test_df = df[df.Object_Date.notna()]\n",
    "    \n",
    "    for i in test_df.index:\n",
    "        obdate = df.Object_Date.loc[i]\n",
    "        year = re.compile(\"\\d+\").findall(obdate)\n",
    "        assert len(year) > 0\n",
    "        if \"-\" in obdate:\n",
    "            if 'B.C.' in obdate:\n",
    "                bdate = -int(year[0])*100\n",
    "                edate = -int(year[1])*100\n",
    "            elif 'century' in obdate:\n",
    "                bdate = int(year[0])*100\n",
    "                edate = int(year[1])*100\n",
    "            elif len(year[0]) == 4 and len(year[1]) == 4:\n",
    "                bdate = int(year[0])\n",
    "                edate = int(year[1])\n",
    "            elif len(year[0]) == 4 and len(year[1]) == 2:\n",
    "                bdate = int(year[0])\n",
    "                edate = bdate//100*100 + int(year[1])\n",
    "            else:\n",
    "                print('case1',df.loc[i,['Object_Date','Object_Begin_Date','Object_End_Date']],sep = '\\n')\n",
    "                break\n",
    "        else:\n",
    "            if 'B.C.' in obdate:\n",
    "                bdate = -int(year[0])*100 + 1\n",
    "                edate = bdate + 99\n",
    "            elif 'century' in obdate:\n",
    "                bdate = (int(year[0])-1)*100\n",
    "                edate = bdate + 99\n",
    "            elif len(year[0]) == 4:\n",
    "                bdate = edate = int(year[0])\n",
    "            else:\n",
    "                print('case2',df.loc[i,['Object_Date','Object_Begin_Date','Object_End_Date']],sep = '\\n')\n",
    "                break\n",
    "        if df.loc[i].Object_Begin_Date < bdate:\n",
    "            df.loc[i].Object_Begin_Date = bdate\n",
    "        if df.loc[i].Object_End_Date > edate:\n",
    "            df.loc[i].Object_End_Date = edate\n",
    "    return df\n",
    "\n",
    "#     a = test_df[ [\"century\" in date for date in test_df.Object_Date]][['Object_Date','Object_Begin_Date','Object_End_Date']]\n",
    "#     return a[-a.apply(check_Object_Date,axis = 1)][['Object_Date','Object_Begin_Date','Object_End_Date']]\n",
    "\n",
    "modify_Object_Date(collection_df)"
   ]
  },
  {
   "cell_type": "code",
   "execution_count": null,
   "metadata": {},
   "outputs": [],
   "source": [
    "## Check \"Object Begin Date\" and \"Object End Date\" with \"Object Date\"\n",
    "def check_Object_Date(row):\n",
    "    return row.Object_End_Date < row.Object_Begin_Date\n",
    "\n",
    "def modify_Object_Date(df):\n",
    "    \n",
    "    return df[df.apply(check_Object_Date,axis = 1)]\n",
    "\n",
    "modify_Object_Date(collection_df)[['Object_Date','Object_Begin_Date','Object_End_Date']]"
   ]
  },
  {
   "cell_type": "code",
   "execution_count": null,
   "metadata": {},
   "outputs": [],
   "source": [
    "test_df = collection_df[collection_df.Object_Date.notna()]\n",
    "test_df[[\"-\" in i and len(re.compile(\"\\d+\").findall(i)) < 2 for i in test_df.Object_Date]][['Object_Date','Object_Begin_Date','Object_End_Date']]"
   ]
  },
  {
   "cell_type": "code",
   "execution_count": null,
   "metadata": {},
   "outputs": [],
   "source": [
    "## Check \"Artist Display Name\" with \"Artist Alpha Sort\", then delete the later one\n",
    "def check_name(row):\n",
    "    if pd.isna(row.Artist_Alpha_Sort):\n",
    "        return True\n",
    "    else:\n",
    "        r1 = re.findall(r'\\w+',row.Artist_Display_Name.lower())\n",
    "        r2 = re.findall(r'\\w+',row.Artist_Alpha_Sort.lower())\n",
    "        count = 0\n",
    "        for word in r1:\n",
    "            if word in r2:\n",
    "                count += 1\n",
    "        if count/len(r1) > 0.6:\n",
    "            return True\n",
    "        count = 0\n",
    "        for word in r2:\n",
    "            if word in r1:\n",
    "                count += 1\n",
    "        if count/len(r2) > 0.6:\n",
    "            return True\n",
    "        else:\n",
    "            return False\n",
    "collection_df['Wrong_Artist_Name'] = collection_df[collection_df.Artist_Display_Name.notna()].apply(check_name,1)\n",
    "ollection_df.Wrong_Artist_Name.value_counts(dropna=False)"
   ]
  },
  {
   "cell_type": "code",
   "execution_count": null,
   "metadata": {},
   "outputs": [],
   "source": [
    "collection_df[['Wrong_Artist_Name','Artist_Display_Name','Artist_Alpha_Sort']].sample(10)"
   ]
  },
  {
   "cell_type": "markdown",
   "metadata": {},
   "source": [
    "We intend to check number of NaNs in all the columns first and try to ingnore those columns which the number of NaNs is no more than 10%."
   ]
  },
  {
   "cell_type": "code",
   "execution_count": null,
   "metadata": {},
   "outputs": [],
   "source": [
    "collection_df.isna().sum()\n"
   ]
  },
  {
   "cell_type": "code",
   "execution_count": null,
   "metadata": {},
   "outputs": [],
   "source": [
    "collection_df.dtypes"
   ]
  },
  {
   "cell_type": "code",
   "execution_count": null,
   "metadata": {},
   "outputs": [],
   "source": [
    "filtered_df =  collection_df.loc[:, collection_df.isna().sum(axis = 0) < len(collection_df.index)*0.1 ]\n",
    "filtered_df"
   ]
  },
  {
   "cell_type": "markdown",
   "metadata": {
    "slideshow": {
     "slide_type": "slide"
    }
   },
   "source": [
    "## Data analysis & Data Visualization"
   ]
  },
  {
   "cell_type": "code",
   "execution_count": null,
   "metadata": {
    "slideshow": {
     "slide_type": "subslide"
    }
   },
   "outputs": [],
   "source": [
    "## explore the type of object\n",
    "top_ten_collections = collection_df.Object_Name.value_counts(dropna=False).head(10)\n",
    "top_ten_collections"
   ]
  },
  {
   "cell_type": "code",
   "execution_count": null,
   "metadata": {
    "slideshow": {
     "slide_type": "fragment"
    }
   },
   "outputs": [],
   "source": [
    "plt.figure(figsize=(15,5))\n",
    "sns.barplot(x = top_ten_collections.values, y = top_ten_collections.index, alpha=0.8, orient='h')\n",
    "plt.title('Top Ten Collection Types in The Museum')\n",
    "plt.xlabel('Number of Occurrences', fontsize=12)\n",
    "plt.ylabel('Collection Types', fontsize=12)\n",
    "plt.show()"
   ]
  },
  {
   "cell_type": "code",
   "execution_count": null,
   "metadata": {
    "slideshow": {
     "slide_type": "subslide"
    }
   },
   "outputs": [],
   "source": [
    "## explore the departement\n",
    "departments = collection_df.Department.value_counts()\n",
    "departments"
   ]
  },
  {
   "cell_type": "code",
   "execution_count": null,
   "metadata": {
    "slideshow": {
     "slide_type": "fragment"
    }
   },
   "outputs": [],
   "source": [
    "plt.figure(figsize=(15,5))\n",
    "sns.barplot(x = departments.values, y = departments.index, alpha=0.8, orient='h')\n",
    "plt.title('Quantiles of Collections in Different Departments')\n",
    "plt.xlabel('Number of Occurrences', fontsize=12)\n",
    "plt.ylabel('Names of Departments', fontsize=12)\n",
    "plt.show()"
   ]
  },
  {
   "cell_type": "code",
   "execution_count": null,
   "metadata": {
    "slideshow": {
     "slide_type": "subslide"
    }
   },
   "outputs": [],
   "source": [
    "## explore Credit Line\n",
    "freq_df = collection_df.Credit_Year.value_counts()\n",
    "ax = freq_df.plot(figsize = (12,10))\n",
    "freq_df.rolling(window = 30).mean().plot(ax= ax, color='green', label = 'frequnecy')"
   ]
  },
  {
   "cell_type": "markdown",
   "metadata": {},
   "source": [
    "# Analysis conclusion\n",
    "\n",
    "\n",
    "## Top Ten Collection Types in The Museum\n",
    "    - From the plot we can clrearly see that the top ten colection types are print, photograph, drawing, book, fragment, Kylix fragment, piece, painting, negative, Baseball card/paint.\n",
    "    - We use the value and index of the Series to be the x-axis and y-axis number.\n",
    "\n",
    "## Quantiles of Collections in Different Departments\n",
    "    - From the plot we can easily analysis each department's the amount of collection, and we can see the top collection department is Drawings and Paints.\n",
    "    - We also use the value and index of the Series to be the x-axis and y-axis number.\n",
    "\n",
    "## Frequency of Contribution Depend on Years\n",
    "    - From the plot we can state that as year goes, the museum keep collecting arts from people, even though there are some years that have more frequency of collecting activities, the most activities are not changable.\n",
    "    - We first turn the Series into list, then get the year numbers, count the frequency of years appear on the lists, finally plot the year and the frequency value."
   ]
  },
  {
   "cell_type": "code",
   "execution_count": null,
   "metadata": {},
   "outputs": [],
   "source": []
  }
 ],
 "metadata": {
  "celltoolbar": "Slideshow",
  "kernelspec": {
   "display_name": "Python 3",
   "language": "python",
   "name": "python3"
  },
  "language_info": {
   "codemirror_mode": {
    "name": "ipython",
    "version": 3
   },
   "file_extension": ".py",
   "mimetype": "text/x-python",
   "name": "python",
   "nbconvert_exporter": "python",
   "pygments_lexer": "ipython3",
   "version": "3.7.0"
  }
 },
 "nbformat": 4,
 "nbformat_minor": 2
}
