{
 "cells": [
  {
   "cell_type": "markdown",
   "metadata": {},
   "source": [
    "# Anlysis of museum collection"
   ]
  },
  {
   "cell_type": "markdown",
   "metadata": {},
   "source": [
    "### Import all the module required"
   ]
  },
  {
   "cell_type": "code",
   "execution_count": null,
   "metadata": {},
   "outputs": [],
   "source": [
    "import pandas as pd\n",
    "import numpy as np\n",
    "import re"
   ]
  },
  {
   "cell_type": "markdown",
   "metadata": {},
   "source": [
    "### Import the data from the website"
   ]
  },
  {
   "cell_type": "code",
   "execution_count": null,
   "metadata": {},
   "outputs": [],
   "source": [
    "collection_df = pd.read_csv(\"https://media.githubusercontent.com/media/metmuseum/openaccess/master/MetObjects.csv\")\n",
    "collection_df"
   ]
  },
  {
   "cell_type": "markdown",
   "metadata": {},
   "source": [
    "## Data clean\n",
    "\n",
    "The data now looks fine. We intend to do some data clean work as follows:\n",
    "+ Check \"Object Begin Date\" and \"Object End Date\" with \"Object Date\"\n",
    "+ Check \"Artist Begin Date\" and \"Artist End Date\" with \"Artist Display Bio\"\n",
    "+ Check \"Artist Display Name\" with \"Artist Alpha Sort\", then delete the later one.\n",
    "+ Merge \"Artist Role\" with \"Artist Prefix\"\n"
   ]
  },
  {
   "cell_type": "code",
   "execution_count": null,
   "metadata": {},
   "outputs": [],
   "source": [
    "## modify the names of columns for indexing convenience\n",
    "collection_df.columns = ['_'.join(col_name.split()) for col_name in collection_df]"
   ]
  },
  {
   "cell_type": "code",
   "execution_count": null,
   "metadata": {},
   "outputs": [],
   "source": [
    "## Check \"Object Begin Date\" and \"Object End Date\" with \"Object Date\"\n",
    "def check_Object_Date(row):\n",
    "    return row.Object_End_Date >= row.Object_Begin_Date\n",
    "\n",
    "def modify_Object_Date(df):\n",
    "    test_df = df[df.Object_Date.notna()]\n",
    "    \n",
    "    for i in test_df.index:\n",
    "        obdate = df.Object_Date.loc[i]\n",
    "        year = re.compile(\"\\d+\").findall(obdate)\n",
    "        assert len(year) > 0\n",
    "        if \"-\" in obdate:\n",
    "            if 'B.C.' in obdate:\n",
    "                bdate = -int(year[0])*100\n",
    "                edate = -int(year[1])*100\n",
    "            elif 'century' in obdate:\n",
    "                bdate = int(year[0])*100\n",
    "                edate = int(year[1])*100\n",
    "            elif len(year[0]) == 4 and len(year[1]) == 4:\n",
    "                bdate = int(year[0])\n",
    "                edate = int(year[1])\n",
    "            elif len(year[0]) == 4 and len(year[1]) == 2:\n",
    "                bdate = int(year[0])\n",
    "                edate = bdate//100*100 + int(year[1])\n",
    "            else:\n",
    "                print('case1',df.loc[i,['Object_Date','Object_Begin_Date','Object_End_Date']],sep = '\\n')\n",
    "                break\n",
    "        else:\n",
    "            if 'B.C.' in obdate:\n",
    "                bdate = -int(year[0])*100 + 1\n",
    "                edate = bdate + 99\n",
    "            elif 'century' in obdate:\n",
    "                bdate = (int(year[0])-1)*100\n",
    "                edate = bdate + 99\n",
    "            elif len(year[0]) == 4:\n",
    "                bdate = edate = int(year[0])\n",
    "            else:\n",
    "                print('case2',df.loc[i,['Object_Date','Object_Begin_Date','Object_End_Date']],sep = '\\n')\n",
    "                break\n",
    "        if df.loc[i].Object_Begin_Date < bdate:\n",
    "            df.loc[i].Object_Begin_Date = bdate\n",
    "        if df.loc[i].Object_End_Date > edate:\n",
    "            df.loc[i].Object_End_Date = edate\n",
    "    return df\n",
    "\n",
    "#     a = test_df[ [\"century\" in date for date in test_df.Object_Date]][['Object_Date','Object_Begin_Date','Object_End_Date']]\n",
    "#     return a[-a.apply(check_Object_Date,axis = 1)][['Object_Date','Object_Begin_Date','Object_End_Date']]\n",
    "\n",
    "modify_Object_Date(collection_df)"
   ]
  },
  {
   "cell_type": "code",
   "execution_count": null,
   "metadata": {},
   "outputs": [],
   "source": [
    "## Check \"Object Begin Date\" and \"Object End Date\" with \"Object Date\"\n",
    "def check_Object_Date(row):\n",
    "    return row.Object_End_Date < row.Object_Begin_Date\n",
    "\n",
    "def modify_Object_Date(df):\n",
    "    \n",
    "    return df[df.apply(check_Object_Date,axis = 1)]\n",
    "\n",
    "modify_Object_Date(collection_df)[['Object_Date','Object_Begin_Date','Object_End_Date']]"
   ]
  },
  {
   "cell_type": "code",
   "execution_count": null,
   "metadata": {},
   "outputs": [],
   "source": [
    "test_df = collection_df[collection_df.Object_Date.notna()]\n",
    "test_df[[\"-\" in i and len(re.compile(\"\\d+\").findall(i)) < 2 for i in test_df.Object_Date]][['Object_Date','Object_Begin_Date','Object_End_Date']]"
   ]
  },
  {
   "cell_type": "markdown",
   "metadata": {},
   "source": [
    "We intend to check number of NaNs in all the columns first and try to ingnore those columns which the number of NaNs is no more than 10%."
   ]
  },
  {
   "cell_type": "code",
   "execution_count": null,
   "metadata": {},
   "outputs": [],
   "source": [
    "collection_df.isna().sum()"
   ]
  },
  {
   "cell_type": "code",
   "execution_count": null,
   "metadata": {},
   "outputs": [],
   "source": [
    "collection_df.dtypes"
   ]
  },
  {
   "cell_type": "code",
   "execution_count": null,
   "metadata": {},
   "outputs": [],
   "source": [
    "filtered_df =  collection_df.loc[:, collection_df.isna().sum(axis = 0) < len(collection_df.index)*0.1 ]\n",
    "filtered_df"
   ]
  },
  {
   "cell_type": "markdown",
   "metadata": {},
   "source": [
    "## Data analysis & Data Visualization"
   ]
  },
  {
   "cell_type": "code",
   "execution_count": null,
   "metadata": {},
   "outputs": [],
   "source": [
    "## explore the type of object\n",
    "objects_amount = collection_df.Object_Name.value_counts(dropna=False)\n",
    "objects_amount.head(10)"
   ]
  },
  {
   "cell_type": "code",
   "execution_count": null,
   "metadata": {},
   "outputs": [],
   "source": [
    "## explore the departement\n",
    "departments = collection_df.Department.value_counts()\n",
    "departments"
   ]
  },
  {
   "cell_type": "markdown",
   "metadata": {},
   "source": [
    "## Analysis conclusion"
   ]
  }
 ],
 "metadata": {
  "kernelspec": {
   "display_name": "Python 3",
   "language": "python",
   "name": "python3"
  },
  "language_info": {
   "codemirror_mode": {
    "name": "ipython",
    "version": 3
   },
   "file_extension": ".py",
   "mimetype": "text/x-python",
   "name": "python",
   "nbconvert_exporter": "python",
   "pygments_lexer": "ipython3",
   "version": "3.6.7"
  }
 },
 "nbformat": 4,
 "nbformat_minor": 2
}
